{
 "cells": [
  {
   "cell_type": "markdown",
   "metadata": {},
   "source": [
    "# Snowplow Problem\n",
    "\n",
    "## Problem Description\n",
    "\n",
    "In this problem, a snowplow is required to clear the snow in front of `n` houses positioned on a one-dimensional road. The snowplow starts from position `0`. The goal is to minimize the average waiting time of the houses. The travel time for the snowplow is equivalent to the distance it travels. If there are multiple houses at the same position, the snowplow takes no extra time to clear the snow at these houses.\n",
    "\n",
    "## Solution Approach\n",
    "\n",
    "To minimize the average waiting time for the houses, the snowplow should first move to the closest house to its starting position and then continue in the same direction clearing the snow in front of the houses sequentially."
   ]
  },
  {
   "cell_type": "markdown",
   "metadata": {},
   "source": [
    "### Step 0 initialisation du projet"
   ]
  },
  {
   "cell_type": "markdown",
   "metadata": {},
   "source": [
    "Import the libraries"
   ]
  },
  {
   "cell_type": "code",
   "execution_count": 230,
   "metadata": {},
   "outputs": [],
   "source": [
    "import numpy as np\n",
    "import random\n",
    "import matplotlib.pyplot as plt\n",
    "import math"
   ]
  },
  {
   "cell_type": "markdown",
   "metadata": {},
   "source": [
    "### Step 1 create the houses"
   ]
  },
  {
   "cell_type": "code",
   "execution_count": 231,
   "metadata": {},
   "outputs": [],
   "source": [
    "def create_houses(n):\n",
    "    houses = np.random.uniform(-1000, 1000, n)\n",
    "    houses = [(i, h) for i, h in enumerate(houses)]\n",
    "    houses = sorted(houses, key=lambda x: x[1])\n",
    "    return houses\n"
   ]
  },
  {
   "cell_type": "markdown",
   "metadata": {},
   "source": [
    "### Step 2 Create a way to have the average time"
   ]
  },
  {
   "cell_type": "code",
   "execution_count": 232,
   "metadata": {},
   "outputs": [],
   "source": [
    "def calculate_average_wait_time(order, houses):\n",
    "    snowplow_pos = 0\n",
    "    total_wait_time = 0\n",
    "    cumulative_time = 0\n",
    "\n",
    "    for house_id in order:\n",
    "        house_pos = next(h[1] for h in houses if h[0] == house_id)\n",
    "        travel_time = abs(snowplow_pos - house_pos)\n",
    "        cumulative_time += travel_time\n",
    "        total_wait_time += cumulative_time\n",
    "        snowplow_pos = house_pos\n",
    "\n",
    "    avg_wait_time = total_wait_time / len(order)\n",
    "    return avg_wait_time\n"
   ]
  },
  {
   "cell_type": "markdown",
   "metadata": {},
   "source": [
    "### Step 3 Let's code some algorythms"
   ]
  },
  {
   "cell_type": "markdown",
   "metadata": {},
   "source": [
    "##### 1. Greedy approach, the snowplow start to go to the right keep the direction, when he reachs the last house he moves to the other side\n",
    "\n",
    "Algorithm Complexities\n",
    "\n",
    "- **Sorting the houses:**\n",
    "\\begin{align*}\n",
    "\\text{Time Complexity} &: O(n \\log n)\n",
    "\\end{align*}\n",
    "\n",
    "- **Overall Time Complexity:**\n",
    "\\begin{align*}\n",
    "\\text{Time Complexity} &: O(n \\log n)\n",
    "\\end{align*}\n",
    "\n",
    "- **Space Complexity:**\n",
    "\\begin{align*}\n",
    "\\text{Space Complexity} &: O(n)\n",
    "\\end{align*}"
   ]
  },
  {
   "cell_type": "code",
   "execution_count": 233,
   "metadata": {},
   "outputs": [],
   "source": [
    "def greedy_approach(houses):\n",
    "    right_houses = [house for house in houses if house[1] > 0]\n",
    "    left_houses = [house for house in houses if house[1] <= 0]\n",
    "    order = [house[0] for house in right_houses] + [house[0] for house in reversed(left_houses)]\n",
    "    avg_wait_time = calculate_average_wait_time(order, houses)\n",
    "    return order, avg_wait_time\n"
   ]
  },
  {
   "cell_type": "markdown",
   "metadata": {},
   "source": [
    "#### Two pointer approach, the snowplow will go to the closest house\n",
    "\n",
    "Algorithm Complexities\n",
    "\n",
    "- **Sorting the houses:**\n",
    "\\begin{align*}\n",
    "\\text{Time Complexity} &: O(n \\log n)\n",
    "\\end{align*}\n",
    "\n",
    "- **Iterating through houses using two pointers:**\n",
    "\\begin{align*}\n",
    "\\text{Time Complexity} &: O(n)\n",
    "\\end{align*}\n",
    "\n",
    "- **Overall Time Complexity:**\n",
    "\\begin{align*}\n",
    "\\text{Time Complexity} &: O(n \\log n)\n",
    "\\end{align*}\n",
    "\n",
    "- **Space Complexity:**\n",
    "\\begin{align*}\n",
    "\\text{Space Complexity} &: O(n)\n",
    "\\end{align*}\n"
   ]
  },
  {
   "cell_type": "code",
   "execution_count": 234,
   "metadata": {},
   "outputs": [],
   "source": [
    "def two_pointers_approach(houses):\n",
    "    left_houses = [house for house in houses if house[1] < 0][::-1]\n",
    "    right_houses = [house for house in houses if house[1] >= 0]\n",
    "    order = []\n",
    "    snowplow_pos = 0\n",
    "    left_ptr, right_ptr = 0, 0\n",
    "    while left_ptr < len(left_houses) and right_ptr < len(right_houses):\n",
    "        left_distance = abs(snowplow_pos - left_houses[left_ptr][1])\n",
    "        right_distance = abs(snowplow_pos - right_houses[right_ptr][1])\n",
    "        if left_distance < right_distance:\n",
    "            order.append(left_houses[left_ptr][0])\n",
    "            snowplow_pos = left_houses[left_ptr][1]\n",
    "            left_ptr += 1\n",
    "        else:\n",
    "            order.append(right_houses[right_ptr][0])\n",
    "            snowplow_pos = right_houses[right_ptr][1]\n",
    "            right_ptr += 1\n",
    "    while left_ptr < len(left_houses):\n",
    "        order.append(left_houses[left_ptr][0])\n",
    "        left_ptr += 1\n",
    "    while right_ptr < len(right_houses):\n",
    "        order.append(right_houses[right_ptr][0])\n",
    "        right_ptr += 1\n",
    "    avg_wait_time = calculate_average_wait_time(order, houses)\n",
    "    return order, avg_wait_time\n"
   ]
  },
  {
   "cell_type": "markdown",
   "metadata": {},
   "source": [
    "#### Simulated Annealing approach\n",
    "\n",
    "Simulated Annealing Approach Complexities\n",
    "\n",
    "The complexity of the Simulated Annealing algorithm isn't straightforward as it relies on iterative improvements and can be influenced by the annealing schedule (how the temperature decreases), the number of iterations at each temperature, and the neighborhood function to generate potential solutions. However, here's a general analysis:\n",
    "\n",
    "- **Number of Iterations:**\n",
    "This is typically denoted by \\(T\\), representing the total number of iterations. Each iteration corresponds to a decrease in temperature and an exploration of neighboring solutions.\n",
    "\n",
    "- **Generating Neighboring Solutions:**\n",
    "For our specific snowplow problem, the neighborhood function was swapping two randomly selected house positions. This can be done in constant time, \\(O(1)\\), for each iteration.\n",
    "\n",
    "- **Evaluating the Cost of a Solution:**\n",
    "For our problem, this was the calculation of the average wait time. In the worst case, this is \\(O(n)\\), where \\(n\\) is the number of houses.\n",
    "\n",
    "- **Overall Time Complexity for One Iteration:**\n",
    "This will be \\(O(n)\\), dominated by the cost evaluation.\n",
    "\n",
    "- **Overall Time Complexity for the Algorithm:**\n",
    "Given that we perform \\(T\\) iterations, the overall time complexity will be \\(O(T \\times n)\\). The value of \\(T\\) depends on how the temperature is annealed. If the annealing schedule reduces the temperature slowly, \\(T\\) could be quite large.\n",
    "\n",
    "- **Space Complexity:**\n",
    "This is dominated by the storage of the current solution and the neighboring solution, so it is \\(O(n)\\).\n",
    "\n",
    "---\n",
    "\n",
    "\\begin{align*}\n",
    "\\text{Overall Time Complexity} &: O(T \\times n) \\\\\n",
    "\\text{Space Complexity} &: O(n)\n",
    "\\end{align*}\n",
    "\n",
    "---\n"
   ]
  },
  {
   "cell_type": "code",
   "execution_count": 235,
   "metadata": {},
   "outputs": [],
   "source": [
    "def simulated_annealing(houses, initial_temp, cooling_rate, num_iterations):\n",
    "    current_order = [house[0] for house in houses]\n",
    "    current_avg_time = calculate_average_wait_time(current_order, houses)\n",
    "    best_order = current_order[:]\n",
    "    best_avg_time = current_avg_time\n",
    "    temp = initial_temp\n",
    "    for _ in range(num_iterations):\n",
    "        neighbor_order = current_order[:]\n",
    "        i, j = random.sample(range(len(neighbor_order)), 2)\n",
    "        neighbor_order[i], neighbor_order[j] = neighbor_order[j], neighbor_order[i]\n",
    "        neighbor_avg_time = calculate_average_wait_time(neighbor_order, houses)\n",
    "        if neighbor_avg_time < current_avg_time or random.random() < math.exp((current_avg_time - neighbor_avg_time) / temp):\n",
    "            current_order = neighbor_order\n",
    "            current_avg_time = neighbor_avg_time\n",
    "        if current_avg_time < best_avg_time:\n",
    "            best_order = current_order[:]\n",
    "            best_avg_time = current_avg_time\n",
    "        temp *= cooling_rate\n",
    "    return best_order, best_avg_time\n"
   ]
  },
  {
   "cell_type": "markdown",
   "metadata": {},
   "source": [
    "#### Simulate the algorithms"
   ]
  },
  {
   "cell_type": "code",
   "execution_count": 236,
   "metadata": {},
   "outputs": [],
   "source": [
    "#### Simulate the algorithms\n",
    "def simulate(num_iterations=100, num_houses=1000, initial_temp=100, cooling_rate=0.995, sa_iterations=100):\n",
    "    all_houses = []\n",
    "    avg_times_greedy = []\n",
    "    avg_times_two_pointers = []\n",
    "    avg_times_simulated_annealing = []\n",
    "    for _ in range(num_iterations):\n",
    "        houses = create_houses(num_houses)\n",
    "        all_houses.append(houses)\n",
    "    for houses in all_houses:\n",
    "        _, avg_time = greedy_approach(houses)\n",
    "        avg_times_greedy.append(avg_time)\n",
    "        _, avg_time = two_pointers_approach(houses)\n",
    "        avg_times_two_pointers.append(avg_time)\n",
    "        _, avg_time = simulated_annealing(houses, initial_temp, cooling_rate, sa_iterations)\n",
    "        avg_times_simulated_annealing.append(avg_time)\n",
    "    return avg_times_greedy, avg_times_two_pointers, avg_times_simulated_annealing\n"
   ]
  },
  {
   "cell_type": "markdown",
   "metadata": {},
   "source": [
    "#### Step 4 compare the algorythms"
   ]
  },
  {
   "cell_type": "code",
   "execution_count": 237,
   "metadata": {},
   "outputs": [
    {
     "data": {
      "image/png": "[encoded data removed]",
      "text/plain": [
       "<Figure size 432x288 with 1 Axes>"
      ]
     },
     "metadata": {
      "needs_background": "light"
     },
     "output_type": "display_data"
    },
    {
     "name": "stdout",
     "output_type": "stream",
     "text": [
      "Greedy Approach: Average Waiting Time = 1498.4955690139084\n",
      "Two Pointers Approach: Average Waiting Time = 1495.5130122862122\n",
      "Simulated Annealing Approach: Average Waiting Time = 1994.2994185385157\n"
     ]
    }
   ],
   "source": [
    "def plot_results(greedy_avg_times, simulated_annealing_avg_times, two_pointers_avg_times):\n",
    "    plt.plot(greedy_avg_times, label=\"Greedy Approach\", color=\"blue\")\n",
    "    plt.plot(simulated_annealing_avg_times, label=\"Simulated Annealing Approach\", color=\"red\")\n",
    "    plt.plot(two_pointers_avg_times, label=\"Two Pointers Approach\", color=\"green\")\n",
    "    plt.xlabel(\"Iteration\")\n",
    "    plt.ylabel(\"Average Waiting Time\")\n",
    "    plt.title(\"Average Waiting Time over Multiple Iterations\")\n",
    "    plt.legend()\n",
    "    plt.show()\n",
    "\n",
    "# Simulation\n",
    "greedy_avg_times, two_pointers_avg_times, simulated_annealing_avg_times = simulate()\n",
    "plot_results(greedy_avg_times, simulated_annealing_avg_times, two_pointers_avg_times)\n",
    "\n",
    "# Analysis\n",
    "print(\"Greedy Approach: Average Waiting Time = {}\".format(np.mean(greedy_avg_times)))\n",
    "print(\"Two Pointers Approach: Average Waiting Time = {}\".format(np.mean(two_pointers_avg_times)))\n",
    "print(\"Simulated Annealing Approach: Average Waiting Time = {}\".format(np.mean(simulated_annealing_avg_times)))\n"
   ]
  },
  {
   "cell_type": "markdown",
   "metadata": {},
   "source": [
    "## Conclusion\n",
    "\n",
    "The Greedy Approach and the Two Pointers Approach yielded similar average waiting times, with the Two Pointers Approach marginally outperforming the former. On the other hand, the Simulated Annealing Approach had a significantly higher waiting time, making it less optimal for this problem. Thus, the Two Pointers Approach stands out as the most efficient solution among the three.\n"
   ]
  }
 ],
 "metadata": {
  "kernelspec": {
   "display_name": "Python 3.9.0 64-bit",
   "language": "python",
   "name": "python3"
  },
  "language_info": {
   "codemirror_mode": {
    "name": "ipython",
    "version": 3
   },
   "file_extension": ".py",
   "mimetype": "text/x-python",
   "name": "python",
   "nbconvert_exporter": "python",
   "pygments_lexer": "ipython3",
   "version": "3.9.0"
  },
  "orig_nbformat": 4,
  "vscode": {
   "interpreter": {
    "hash": "67f1dc6f6f712f7142079021955b91e049abb319dcfdc9eed010dd73dd4d845d"
   }
  }
 },
 "nbformat": 4,
 "nbformat_minor": 2
}
